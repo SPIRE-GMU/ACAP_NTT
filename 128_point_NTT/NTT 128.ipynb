{
 "cells": [
  {
   "cell_type": "code",
   "execution_count": 1,
   "id": "7d5d2cae",
   "metadata": {},
   "outputs": [],
   "source": [
    "from sympy import ntt, intt"
   ]
  },
  {
   "cell_type": "code",
   "execution_count": 2,
   "id": "3e49f6ca",
   "metadata": {},
   "outputs": [
    {
     "name": "stdout",
     "output_type": "stream",
     "text": [
      "[0, 1, 2, 3, 4, 5, 6, 7, 8, 9, 10, 11, 12, 13, 14, 15, 16, 17, 18, 19, 20, 21, 22, 23, 24, 25, 26, 27, 28, 29, 30, 31, 32, 33, 34, 35, 36, 37, 38, 39, 40, 41, 42, 43, 44, 45, 46, 47, 48, 49, 50, 51, 52, 53, 54, 55, 56, 57, 58, 59, 60, 61, 62, 63, 64, 65, 66, 67, 68, 69, 70, 71, 72, 73, 74, 75, 76, 77, 78, 79, 80, 81, 82, 83, 84, 85, 86, 87, 88, 89, 90, 91, 92, 93, 94, 95, 96, 97, 98, 99, 100, 101, 102, 103, 104, 105, 106, 107, 108, 109, 110, 111, 112, 113, 114, 115, 116, 117, 118, 119, 120, 121, 122, 123, 124, 125, 126, 127]\n"
     ]
    }
   ],
   "source": [
    "k = 128\n",
    "x = [0] * k\n",
    "for i in range (k):\n",
    "    x[i] = i\n",
    "\n",
    "print(x)"
   ]
  },
  {
   "cell_type": "code",
   "execution_count": 3,
   "id": "fd28ad94",
   "metadata": {},
   "outputs": [
    {
     "data": {
      "text/plain": [
       "12289"
      ]
     },
     "execution_count": 3,
     "metadata": {},
     "output_type": "execute_result"
    }
   ],
   "source": [
    "(3*2**5)*(2**7)+1"
   ]
  },
  {
   "cell_type": "code",
   "execution_count": 5,
   "id": "6dd960dd",
   "metadata": {},
   "outputs": [
    {
     "name": "stdout",
     "output_type": "stream",
     "text": [
      "96\n"
     ]
    }
   ],
   "source": [
    "g = (3*2**5)\n",
    "print (g)"
   ]
  },
  {
   "cell_type": "markdown",
   "id": "0321400d",
   "metadata": {},
   "source": [
    "# w for 128"
   ]
  },
  {
   "cell_type": "code",
   "execution_count": 6,
   "id": "2f511ebf",
   "metadata": {},
   "outputs": [
    {
     "name": "stdout",
     "output_type": "stream",
     "text": [
      "12149\n"
     ]
    }
   ],
   "source": [
    "w = pow(11,g,12289)\n",
    "print (w)"
   ]
  },
  {
   "cell_type": "code",
   "execution_count": 7,
   "id": "9fab944a",
   "metadata": {},
   "outputs": [
    {
     "data": {
      "text/plain": [
       "12288"
      ]
     },
     "execution_count": 7,
     "metadata": {},
     "output_type": "execute_result"
    }
   ],
   "source": [
    "pow(w,64,12289)"
   ]
  },
  {
   "cell_type": "code",
   "execution_count": 16,
   "id": "f8510072",
   "metadata": {},
   "outputs": [
    {
     "data": {
      "text/plain": [
       "1479"
      ]
     },
     "execution_count": 16,
     "metadata": {},
     "output_type": "execute_result"
    }
   ],
   "source": [
    "pow(w,32, 12289)"
   ]
  },
  {
   "cell_type": "markdown",
   "id": "ede4c81d",
   "metadata": {},
   "source": [
    "# w_inv for 128"
   ]
  },
  {
   "cell_type": "code",
   "execution_count": 9,
   "id": "1237d47f",
   "metadata": {},
   "outputs": [
    {
     "name": "stdout",
     "output_type": "stream",
     "text": [
      "790\n",
      "13079\n",
      "25368\n",
      "37657\n",
      "49946\n",
      "62235\n",
      "74524\n",
      "86813\n",
      "99102\n"
     ]
    }
   ],
   "source": [
    "for i in range (99999):\n",
    "    if ((w*i)%12289 == 1):\n",
    "        print(i)"
   ]
  },
  {
   "cell_type": "markdown",
   "id": "5e300890",
   "metadata": {},
   "source": [
    "# N_inv for 128"
   ]
  },
  {
   "cell_type": "code",
   "execution_count": 12,
   "id": "3677e7ac",
   "metadata": {},
   "outputs": [
    {
     "name": "stdout",
     "output_type": "stream",
     "text": [
      "12193\n",
      "24482\n",
      "36771\n",
      "49060\n",
      "61349\n",
      "73638\n",
      "85927\n",
      "98216\n"
     ]
    }
   ],
   "source": [
    "N = 128\n",
    "for i in range (99999):\n",
    "    if ((N*i)%12289 == 1):\n",
    "        print(i)"
   ]
  },
  {
   "cell_type": "markdown",
   "id": "ed3a71a6",
   "metadata": {},
   "source": [
    "# NTT"
   ]
  },
  {
   "cell_type": "code",
   "execution_count": 13,
   "id": "7de7ba66",
   "metadata": {
    "scrolled": true
   },
   "outputs": [
    {
     "name": "stdout",
     "output_type": "stream",
     "text": [
      "8128\n",
      "11678\n",
      "5309\n",
      "6715\n",
      "1915\n",
      "10588\n",
      "10277\n",
      "4349\n",
      "10505\n",
      "2441\n",
      "186\n",
      "7334\n",
      "4033\n",
      "4038\n",
      "8992\n",
      "9230\n",
      "6734\n",
      "10984\n",
      "10709\n",
      "4786\n",
      "954\n",
      "6355\n",
      "5117\n",
      "1720\n",
      "11201\n",
      "8776\n",
      "11023\n",
      "9781\n",
      "1164\n",
      "8213\n",
      "2621\n",
      "1211\n",
      "3592\n",
      "10670\n",
      "4072\n",
      "3919\n",
      "7218\n",
      "1064\n",
      "11022\n",
      "7865\n",
      "12229\n",
      "9302\n",
      "3097\n",
      "33\n",
      "946\n",
      "7192\n",
      "8434\n",
      "2712\n",
      "11711\n",
      "3860\n",
      "6536\n",
      "6442\n",
      "6081\n",
      "9261\n",
      "10439\n",
      "5473\n",
      "9198\n",
      "10815\n",
      "2083\n",
      "10088\n",
      "5355\n",
      "10611\n",
      "1351\n",
      "932\n",
      "12225\n",
      "11229\n",
      "10810\n",
      "1550\n",
      "6806\n",
      "2073\n",
      "10078\n",
      "1346\n",
      "2963\n",
      "6688\n",
      "1722\n",
      "2900\n",
      "6080\n",
      "5719\n",
      "5625\n",
      "8301\n",
      "450\n",
      "9449\n",
      "3727\n",
      "4969\n",
      "11215\n",
      "12128\n",
      "9064\n",
      "2859\n",
      "12221\n",
      "4296\n",
      "1139\n",
      "11097\n",
      "4943\n",
      "8242\n",
      "8089\n",
      "1491\n",
      "8569\n",
      "10950\n",
      "9540\n",
      "3948\n",
      "10997\n",
      "2380\n",
      "1138\n",
      "3385\n",
      "960\n",
      "10441\n",
      "7044\n",
      "5806\n",
      "11207\n",
      "7375\n",
      "1452\n",
      "1177\n",
      "5427\n",
      "2931\n",
      "3169\n",
      "8123\n",
      "8128\n",
      "4827\n",
      "11975\n",
      "9720\n",
      "1656\n",
      "7812\n",
      "1884\n",
      "1573\n",
      "10246\n",
      "5446\n",
      "6852\n",
      "483\n"
     ]
    }
   ],
   "source": [
    "a = ntt(x, prime=3*2**12 + 1)\n",
    "for i in range(k):\n",
    "    print(a[i])"
   ]
  },
  {
   "cell_type": "markdown",
   "id": "04796090",
   "metadata": {},
   "source": [
    "# INTT"
   ]
  },
  {
   "cell_type": "code",
   "execution_count": 14,
   "id": "a42fd7a9",
   "metadata": {
    "scrolled": true
   },
   "outputs": [
    {
     "name": "stdout",
     "output_type": "stream",
     "text": [
      "0\n",
      "1\n",
      "2\n",
      "3\n",
      "4\n",
      "5\n",
      "6\n",
      "7\n",
      "8\n",
      "9\n",
      "10\n",
      "11\n",
      "12\n",
      "13\n",
      "14\n",
      "15\n",
      "16\n",
      "17\n",
      "18\n",
      "19\n",
      "20\n",
      "21\n",
      "22\n",
      "23\n",
      "24\n",
      "25\n",
      "26\n",
      "27\n",
      "28\n",
      "29\n",
      "30\n",
      "31\n",
      "32\n",
      "33\n",
      "34\n",
      "35\n",
      "36\n",
      "37\n",
      "38\n",
      "39\n",
      "40\n",
      "41\n",
      "42\n",
      "43\n",
      "44\n",
      "45\n",
      "46\n",
      "47\n",
      "48\n",
      "49\n",
      "50\n",
      "51\n",
      "52\n",
      "53\n",
      "54\n",
      "55\n",
      "56\n",
      "57\n",
      "58\n",
      "59\n",
      "60\n",
      "61\n",
      "62\n",
      "63\n",
      "64\n",
      "65\n",
      "66\n",
      "67\n",
      "68\n",
      "69\n",
      "70\n",
      "71\n",
      "72\n",
      "73\n",
      "74\n",
      "75\n",
      "76\n",
      "77\n",
      "78\n",
      "79\n",
      "80\n",
      "81\n",
      "82\n",
      "83\n",
      "84\n",
      "85\n",
      "86\n",
      "87\n",
      "88\n",
      "89\n",
      "90\n",
      "91\n",
      "92\n",
      "93\n",
      "94\n",
      "95\n",
      "96\n",
      "97\n",
      "98\n",
      "99\n",
      "100\n",
      "101\n",
      "102\n",
      "103\n",
      "104\n",
      "105\n",
      "106\n",
      "107\n",
      "108\n",
      "109\n",
      "110\n",
      "111\n",
      "112\n",
      "113\n",
      "114\n",
      "115\n",
      "116\n",
      "117\n",
      "118\n",
      "119\n",
      "120\n",
      "121\n",
      "122\n",
      "123\n",
      "124\n",
      "125\n",
      "126\n",
      "127\n"
     ]
    }
   ],
   "source": [
    "b = intt(a, prime=3*2**12 + 1)\n",
    "for i in range(k):\n",
    "    print(b[i])"
   ]
  }
 ],
 "metadata": {
  "kernelspec": {
   "display_name": "Python 3 (ipykernel)",
   "language": "python",
   "name": "python3"
  },
  "language_info": {
   "codemirror_mode": {
    "name": "ipython",
    "version": 3
   },
   "file_extension": ".py",
   "mimetype": "text/x-python",
   "name": "python",
   "nbconvert_exporter": "python",
   "pygments_lexer": "ipython3",
   "version": "3.11.5"
  }
 },
 "nbformat": 4,
 "nbformat_minor": 5
}
