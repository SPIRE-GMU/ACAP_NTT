{
 "cells": [
  {
   "cell_type": "code",
   "execution_count": 1,
   "id": "7d5d2cae",
   "metadata": {},
   "outputs": [],
   "source": [
    "from sympy import ntt, intt"
   ]
  },
  {
   "cell_type": "code",
   "execution_count": 2,
   "id": "3e49f6ca",
   "metadata": {},
   "outputs": [
    {
     "name": "stdout",
     "output_type": "stream",
     "text": [
      "[0, 1, 2, 3, 4, 5, 6, 7, 8, 9, 10, 11, 12, 13, 14, 15, 16, 17, 18, 19, 20, 21, 22, 23, 24, 25, 26, 27, 28, 29, 30, 31, 32, 33, 34, 35, 36, 37, 38, 39, 40, 41, 42, 43, 44, 45, 46, 47, 48, 49, 50, 51, 52, 53, 54, 55, 56, 57, 58, 59, 60, 61, 62, 63]\n"
     ]
    }
   ],
   "source": [
    "k = 64\n",
    "x = [0] * k\n",
    "for i in range (k):\n",
    "    x[i] = i\n",
    "\n",
    "print(x)"
   ]
  },
  {
   "cell_type": "code",
   "execution_count": 3,
   "id": "fd28ad94",
   "metadata": {},
   "outputs": [
    {
     "data": {
      "text/plain": [
       "12289"
      ]
     },
     "execution_count": 3,
     "metadata": {},
     "output_type": "execute_result"
    }
   ],
   "source": [
    "(3*2**6)*(2**6)+1"
   ]
  },
  {
   "cell_type": "code",
   "execution_count": 6,
   "id": "6dd960dd",
   "metadata": {},
   "outputs": [
    {
     "data": {
      "text/plain": [
       "192"
      ]
     },
     "execution_count": 6,
     "metadata": {},
     "output_type": "execute_result"
    }
   ],
   "source": [
    "(3*2**6)"
   ]
  },
  {
   "cell_type": "markdown",
   "id": "0321400d",
   "metadata": {},
   "source": [
    "# w for 64"
   ]
  },
  {
   "cell_type": "code",
   "execution_count": 7,
   "id": "2f511ebf",
   "metadata": {},
   "outputs": [
    {
     "name": "stdout",
     "output_type": "stream",
     "text": [
      "7311\n"
     ]
    }
   ],
   "source": [
    "w = pow(11,192,12289)\n",
    "print (w)"
   ]
  },
  {
   "cell_type": "code",
   "execution_count": 8,
   "id": "9fab944a",
   "metadata": {},
   "outputs": [
    {
     "data": {
      "text/plain": [
       "12288"
      ]
     },
     "execution_count": 8,
     "metadata": {},
     "output_type": "execute_result"
    }
   ],
   "source": [
    "pow(7311,32,12289)"
   ]
  },
  {
   "cell_type": "code",
   "execution_count": 10,
   "id": "f8510072",
   "metadata": {},
   "outputs": [
    {
     "data": {
      "text/plain": [
       "1479"
      ]
     },
     "execution_count": 10,
     "metadata": {},
     "output_type": "execute_result"
    }
   ],
   "source": [
    "pow(7311, 16, 12289)"
   ]
  },
  {
   "cell_type": "markdown",
   "id": "ede4c81d",
   "metadata": {},
   "source": [
    "# w_inv for 16"
   ]
  },
  {
   "cell_type": "code",
   "execution_count": 8,
   "id": "1237d47f",
   "metadata": {},
   "outputs": [
    {
     "name": "stdout",
     "output_type": "stream",
     "text": [
      "10984\n",
      "23273\n",
      "35562\n",
      "47851\n",
      "60140\n",
      "72429\n",
      "84718\n",
      "97007\n"
     ]
    }
   ],
   "source": [
    "for i in range (99999):\n",
    "    if ((w*i)%12289 == 1):\n",
    "        print(i)"
   ]
  },
  {
   "cell_type": "markdown",
   "id": "5e300890",
   "metadata": {},
   "source": [
    "# N_inv for 64"
   ]
  },
  {
   "cell_type": "code",
   "execution_count": 11,
   "id": "3677e7ac",
   "metadata": {},
   "outputs": [
    {
     "name": "stdout",
     "output_type": "stream",
     "text": [
      "12097\n",
      "24386\n",
      "36675\n",
      "48964\n",
      "61253\n",
      "73542\n",
      "85831\n",
      "98120\n"
     ]
    }
   ],
   "source": [
    "N = 64\n",
    "for i in range (99999):\n",
    "    if ((N*i)%12289 == 1):\n",
    "        print(i)"
   ]
  },
  {
   "cell_type": "markdown",
   "id": "ed3a71a6",
   "metadata": {},
   "source": [
    "# NTT"
   ]
  },
  {
   "cell_type": "code",
   "execution_count": 12,
   "id": "7de7ba66",
   "metadata": {
    "scrolled": true
   },
   "outputs": [
    {
     "name": "stdout",
     "output_type": "stream",
     "text": [
      "2016\n",
      "8799\n",
      "7102\n",
      "11283\n",
      "11397\n",
      "93\n",
      "8161\n",
      "4496\n",
      "3367\n",
      "11499\n",
      "477\n",
      "8703\n",
      "11745\n",
      "11656\n",
      "582\n",
      "7455\n",
      "1796\n",
      "2036\n",
      "3609\n",
      "5511\n",
      "12259\n",
      "7693\n",
      "473\n",
      "4217\n",
      "12000\n",
      "3268\n",
      "9185\n",
      "11364\n",
      "4599\n",
      "7186\n",
      "8822\n",
      "6820\n",
      "12257\n",
      "5405\n",
      "3403\n",
      "5039\n",
      "7626\n",
      "861\n",
      "3040\n",
      "8957\n",
      "225\n",
      "8008\n",
      "11752\n",
      "4532\n",
      "12255\n",
      "6714\n",
      "8616\n",
      "10189\n",
      "10429\n",
      "4770\n",
      "11643\n",
      "569\n",
      "480\n",
      "3522\n",
      "11748\n",
      "726\n",
      "8858\n",
      "7729\n",
      "4064\n",
      "12132\n",
      "828\n",
      "942\n",
      "5123\n",
      "3426\n"
     ]
    }
   ],
   "source": [
    "a = ntt(x, prime=3*2**12 + 1)\n",
    "for i in range(k):\n",
    "    print(a[i])"
   ]
  },
  {
   "cell_type": "markdown",
   "id": "04796090",
   "metadata": {},
   "source": [
    "# INTT"
   ]
  },
  {
   "cell_type": "code",
   "execution_count": 13,
   "id": "a42fd7a9",
   "metadata": {
    "scrolled": true
   },
   "outputs": [
    {
     "name": "stdout",
     "output_type": "stream",
     "text": [
      "0\n",
      "1\n",
      "2\n",
      "3\n",
      "4\n",
      "5\n",
      "6\n",
      "7\n",
      "8\n",
      "9\n",
      "10\n",
      "11\n",
      "12\n",
      "13\n",
      "14\n",
      "15\n",
      "16\n",
      "17\n",
      "18\n",
      "19\n",
      "20\n",
      "21\n",
      "22\n",
      "23\n",
      "24\n",
      "25\n",
      "26\n",
      "27\n",
      "28\n",
      "29\n",
      "30\n",
      "31\n",
      "32\n",
      "33\n",
      "34\n",
      "35\n",
      "36\n",
      "37\n",
      "38\n",
      "39\n",
      "40\n",
      "41\n",
      "42\n",
      "43\n",
      "44\n",
      "45\n",
      "46\n",
      "47\n",
      "48\n",
      "49\n",
      "50\n",
      "51\n",
      "52\n",
      "53\n",
      "54\n",
      "55\n",
      "56\n",
      "57\n",
      "58\n",
      "59\n",
      "60\n",
      "61\n",
      "62\n",
      "63\n"
     ]
    }
   ],
   "source": [
    "b = intt(a, prime=3*2**12 + 1)\n",
    "for i in range(k):\n",
    "    print(b[i])"
   ]
  }
 ],
 "metadata": {
  "kernelspec": {
   "display_name": "Python 3 (ipykernel)",
   "language": "python",
   "name": "python3"
  },
  "language_info": {
   "codemirror_mode": {
    "name": "ipython",
    "version": 3
   },
   "file_extension": ".py",
   "mimetype": "text/x-python",
   "name": "python",
   "nbconvert_exporter": "python",
   "pygments_lexer": "ipython3",
   "version": "3.11.5"
  }
 },
 "nbformat": 4,
 "nbformat_minor": 5
}
