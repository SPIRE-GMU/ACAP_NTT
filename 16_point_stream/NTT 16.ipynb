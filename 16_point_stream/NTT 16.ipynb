{
 "cells": [
  {
   "cell_type": "code",
   "execution_count": 1,
   "id": "7d5d2cae",
   "metadata": {},
   "outputs": [],
   "source": [
    "from sympy import ntt, intt"
   ]
  },
  {
   "cell_type": "code",
   "execution_count": 12,
   "id": "3e49f6ca",
   "metadata": {},
   "outputs": [
    {
     "name": "stdout",
     "output_type": "stream",
     "text": [
      "[0, 1, 2, 3, 4, 5, 6, 7, 8, 9, 10, 11, 12, 13, 14, 15]\n"
     ]
    }
   ],
   "source": [
    "k = 16\n",
    "x = [0] * k\n",
    "for i in range (k):\n",
    "    x[i] = i\n",
    "\n",
    "print(x)"
   ]
  },
  {
   "cell_type": "code",
   "execution_count": 3,
   "id": "fd28ad94",
   "metadata": {},
   "outputs": [
    {
     "data": {
      "text/plain": [
       "12289"
      ]
     },
     "execution_count": 3,
     "metadata": {},
     "output_type": "execute_result"
    }
   ],
   "source": [
    "(3*2**8)*(2**4)+1"
   ]
  },
  {
   "cell_type": "code",
   "execution_count": 4,
   "id": "6dd960dd",
   "metadata": {},
   "outputs": [
    {
     "data": {
      "text/plain": [
       "768"
      ]
     },
     "execution_count": 4,
     "metadata": {},
     "output_type": "execute_result"
    }
   ],
   "source": [
    "(3*2**8)"
   ]
  },
  {
   "cell_type": "markdown",
   "id": "0321400d",
   "metadata": {},
   "source": [
    "# w for 16"
   ]
  },
  {
   "cell_type": "code",
   "execution_count": 5,
   "id": "2f511ebf",
   "metadata": {},
   "outputs": [
    {
     "name": "stdout",
     "output_type": "stream",
     "text": [
      "4134\n"
     ]
    }
   ],
   "source": [
    "w = pow(11,768,12289)\n",
    "print (w)"
   ]
  },
  {
   "cell_type": "code",
   "execution_count": 6,
   "id": "9fab944a",
   "metadata": {},
   "outputs": [
    {
     "data": {
      "text/plain": [
       "12288"
      ]
     },
     "execution_count": 6,
     "metadata": {},
     "output_type": "execute_result"
    }
   ],
   "source": [
    "pow(4134,8,12289)"
   ]
  },
  {
   "cell_type": "code",
   "execution_count": 7,
   "id": "f8510072",
   "metadata": {},
   "outputs": [
    {
     "data": {
      "text/plain": [
       "1479"
      ]
     },
     "execution_count": 7,
     "metadata": {},
     "output_type": "execute_result"
    }
   ],
   "source": [
    "pow(4134, 4, 12289)"
   ]
  },
  {
   "cell_type": "markdown",
   "id": "ede4c81d",
   "metadata": {},
   "source": [
    "# w_inv for 16"
   ]
  },
  {
   "cell_type": "code",
   "execution_count": 8,
   "id": "1237d47f",
   "metadata": {},
   "outputs": [
    {
     "name": "stdout",
     "output_type": "stream",
     "text": [
      "10984\n",
      "23273\n",
      "35562\n",
      "47851\n",
      "60140\n",
      "72429\n",
      "84718\n",
      "97007\n"
     ]
    }
   ],
   "source": [
    "for i in range (99999):\n",
    "    if ((w*i)%12289 == 1):\n",
    "        print(i)"
   ]
  },
  {
   "cell_type": "markdown",
   "id": "5e300890",
   "metadata": {},
   "source": [
    "# N_inv for 16"
   ]
  },
  {
   "cell_type": "code",
   "execution_count": 9,
   "id": "3677e7ac",
   "metadata": {},
   "outputs": [
    {
     "name": "stdout",
     "output_type": "stream",
     "text": [
      "11521\n",
      "23810\n",
      "36099\n",
      "48388\n",
      "60677\n",
      "72966\n",
      "85255\n",
      "97544\n"
     ]
    }
   ],
   "source": [
    "N = 16\n",
    "for i in range (99999):\n",
    "    if ((N*i)%12289 == 1):\n",
    "        print(i)"
   ]
  },
  {
   "cell_type": "markdown",
   "id": "ed3a71a6",
   "metadata": {},
   "source": [
    "# NTT"
   ]
  },
  {
   "cell_type": "code",
   "execution_count": 10,
   "id": "7de7ba66",
   "metadata": {
    "scrolled": true
   },
   "outputs": [
    {
     "name": "stdout",
     "output_type": "stream",
     "text": [
      "120\n",
      "12066\n",
      "3914\n",
      "12153\n",
      "449\n",
      "6137\n",
      "3000\n",
      "4222\n",
      "12281\n",
      "8051\n",
      "9273\n",
      "6136\n",
      "11824\n",
      "120\n",
      "8359\n",
      "207\n"
     ]
    }
   ],
   "source": [
    "a = ntt(x, prime=3*2**12 + 1)\n",
    "for i in range(k):\n",
    "    print(a[i])"
   ]
  },
  {
   "cell_type": "markdown",
   "id": "04796090",
   "metadata": {},
   "source": [
    "# INTT"
   ]
  },
  {
   "cell_type": "code",
   "execution_count": 11,
   "id": "a42fd7a9",
   "metadata": {
    "scrolled": true
   },
   "outputs": [
    {
     "name": "stdout",
     "output_type": "stream",
     "text": [
      "0\n",
      "1\n",
      "2\n",
      "3\n",
      "4\n",
      "5\n",
      "6\n",
      "7\n",
      "8\n",
      "9\n",
      "10\n",
      "11\n",
      "12\n",
      "13\n",
      "14\n",
      "15\n"
     ]
    }
   ],
   "source": [
    "b = intt(a, prime=3*2**12 + 1)\n",
    "for i in range(k):\n",
    "    print(b[i])"
   ]
  },
  {
   "cell_type": "code",
   "execution_count": null,
   "id": "713386f7",
   "metadata": {},
   "outputs": [],
   "source": [
    "x = 0\n",
    "for i in range (1024):\n",
    "    x = x+i\n",
    "print (x % 12289)"
   ]
  }
 ],
 "metadata": {
  "kernelspec": {
   "display_name": "Python 3 (ipykernel)",
   "language": "python",
   "name": "python3"
  },
  "language_info": {
   "codemirror_mode": {
    "name": "ipython",
    "version": 3
   },
   "file_extension": ".py",
   "mimetype": "text/x-python",
   "name": "python",
   "nbconvert_exporter": "python",
   "pygments_lexer": "ipython3",
   "version": "3.11.5"
  }
 },
 "nbformat": 4,
 "nbformat_minor": 5
}
