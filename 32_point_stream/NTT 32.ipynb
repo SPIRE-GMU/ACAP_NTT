{
 "cells": [
  {
   "cell_type": "code",
   "execution_count": 1,
   "id": "7d5d2cae",
   "metadata": {},
   "outputs": [],
   "source": [
    "from sympy import ntt, intt"
   ]
  },
  {
   "cell_type": "code",
   "execution_count": 3,
   "id": "3e49f6ca",
   "metadata": {},
   "outputs": [],
   "source": [
    "k = 32\n",
    "x = [0] * k\n",
    "for i in range (k):\n",
    "    x[i] = i\n",
    "\n",
    "#print(x)"
   ]
  },
  {
   "cell_type": "code",
   "execution_count": 5,
   "id": "fd28ad94",
   "metadata": {},
   "outputs": [
    {
     "data": {
      "text/plain": [
       "12289"
      ]
     },
     "execution_count": 5,
     "metadata": {},
     "output_type": "execute_result"
    }
   ],
   "source": [
    "(3*2**7)*(2**5)+1"
   ]
  },
  {
   "cell_type": "code",
   "execution_count": 7,
   "id": "6dd960dd",
   "metadata": {},
   "outputs": [
    {
     "name": "stdout",
     "output_type": "stream",
     "text": [
      "384\n"
     ]
    }
   ],
   "source": [
    "g = (3*2**7)\n",
    "print(g)"
   ]
  },
  {
   "cell_type": "markdown",
   "id": "0321400d",
   "metadata": {},
   "source": [
    "# w for 32"
   ]
  },
  {
   "cell_type": "code",
   "execution_count": 8,
   "id": "2f511ebf",
   "metadata": {},
   "outputs": [
    {
     "name": "stdout",
     "output_type": "stream",
     "text": [
      "5860\n"
     ]
    }
   ],
   "source": [
    "w = pow(11,g,12289)\n",
    "print (w)"
   ]
  },
  {
   "cell_type": "code",
   "execution_count": 11,
   "id": "9fab944a",
   "metadata": {},
   "outputs": [
    {
     "data": {
      "text/plain": [
       "12288"
      ]
     },
     "execution_count": 11,
     "metadata": {},
     "output_type": "execute_result"
    }
   ],
   "source": [
    "pow(w,16,12289)"
   ]
  },
  {
   "cell_type": "code",
   "execution_count": 12,
   "id": "f8510072",
   "metadata": {},
   "outputs": [
    {
     "data": {
      "text/plain": [
       "1479"
      ]
     },
     "execution_count": 12,
     "metadata": {},
     "output_type": "execute_result"
    }
   ],
   "source": [
    "pow(w, 8, 12289)"
   ]
  },
  {
   "cell_type": "markdown",
   "id": "ede4c81d",
   "metadata": {},
   "source": [
    "# w_inv for 32"
   ]
  },
  {
   "cell_type": "code",
   "execution_count": 13,
   "id": "1237d47f",
   "metadata": {},
   "outputs": [
    {
     "name": "stdout",
     "output_type": "stream",
     "text": [
      "8747\n",
      "21036\n",
      "33325\n",
      "45614\n",
      "57903\n",
      "70192\n",
      "82481\n",
      "94770\n"
     ]
    }
   ],
   "source": [
    "for i in range (99999):\n",
    "    if ((w*i)%12289 == 1):\n",
    "        print(i)"
   ]
  },
  {
   "cell_type": "markdown",
   "id": "5e300890",
   "metadata": {},
   "source": [
    "# N_inv for 32"
   ]
  },
  {
   "cell_type": "code",
   "execution_count": 14,
   "id": "3677e7ac",
   "metadata": {},
   "outputs": [
    {
     "name": "stdout",
     "output_type": "stream",
     "text": [
      "11521\n",
      "23810\n",
      "36099\n",
      "48388\n",
      "60677\n",
      "72966\n",
      "85255\n",
      "97544\n"
     ]
    }
   ],
   "source": [
    "N = 16\n",
    "for i in range (99999):\n",
    "    if ((N*i)%12289 == 1):\n",
    "        print(i)"
   ]
  },
  {
   "cell_type": "markdown",
   "id": "ed3a71a6",
   "metadata": {},
   "source": [
    "# NTT"
   ]
  },
  {
   "cell_type": "code",
   "execution_count": 15,
   "id": "7de7ba66",
   "metadata": {
    "scrolled": true
   },
   "outputs": [
    {
     "name": "stdout",
     "output_type": "stream",
     "text": [
      "496\n",
      "3551\n",
      "11843\n",
      "10225\n",
      "7828\n",
      "6383\n",
      "12017\n",
      "291\n",
      "898\n",
      "7949\n",
      "12274\n",
      "6381\n",
      "6000\n",
      "10737\n",
      "8444\n",
      "4411\n",
      "12273\n",
      "7846\n",
      "3813\n",
      "1520\n",
      "6257\n",
      "5876\n",
      "12272\n",
      "4308\n",
      "11359\n",
      "11966\n",
      "240\n",
      "5874\n",
      "4429\n",
      "2032\n",
      "414\n",
      "8706\n"
     ]
    }
   ],
   "source": [
    "a = ntt(x, prime=3*2**12 + 1)\n",
    "for i in range(k):\n",
    "    print(a[i])"
   ]
  },
  {
   "cell_type": "markdown",
   "id": "04796090",
   "metadata": {},
   "source": [
    "# INTT"
   ]
  },
  {
   "cell_type": "code",
   "execution_count": 16,
   "id": "a42fd7a9",
   "metadata": {
    "scrolled": true
   },
   "outputs": [
    {
     "name": "stdout",
     "output_type": "stream",
     "text": [
      "0\n",
      "1\n",
      "2\n",
      "3\n",
      "4\n",
      "5\n",
      "6\n",
      "7\n",
      "8\n",
      "9\n",
      "10\n",
      "11\n",
      "12\n",
      "13\n",
      "14\n",
      "15\n",
      "16\n",
      "17\n",
      "18\n",
      "19\n",
      "20\n",
      "21\n",
      "22\n",
      "23\n",
      "24\n",
      "25\n",
      "26\n",
      "27\n",
      "28\n",
      "29\n",
      "30\n",
      "31\n"
     ]
    }
   ],
   "source": [
    "b = intt(a, prime=3*2**12 + 1)\n",
    "for i in range(k):\n",
    "    print(b[i])"
   ]
  }
 ],
 "metadata": {
  "kernelspec": {
   "display_name": "Python 3 (ipykernel)",
   "language": "python",
   "name": "python3"
  },
  "language_info": {
   "codemirror_mode": {
    "name": "ipython",
    "version": 3
   },
   "file_extension": ".py",
   "mimetype": "text/x-python",
   "name": "python",
   "nbconvert_exporter": "python",
   "pygments_lexer": "ipython3",
   "version": "3.11.5"
  }
 },
 "nbformat": 4,
 "nbformat_minor": 5
}
